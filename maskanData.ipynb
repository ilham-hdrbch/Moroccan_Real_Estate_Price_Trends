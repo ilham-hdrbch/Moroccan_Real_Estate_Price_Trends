{
 "cells": [
  {
   "cell_type": "code",
   "execution_count": 1,
   "id": "f78faa4d-bd75-4803-a50a-b19a787e3efd",
   "metadata": {},
   "outputs": [],
   "source": [
    "import pyodbc\n",
    "from bs4 import BeautifulSoup\n",
    "from urllib.parse import urljoin,urlparse\n",
    "import requests\n",
    "import re"
   ]
  },
  {
   "cell_type": "code",
   "execution_count": 2,
   "id": "3b020856-e98e-496e-afc9-4af0dfb703ec",
   "metadata": {},
   "outputs": [],
   "source": [
    "conn=pyodbc.connect('Driver={SQL Server};''Server=DESKTOP-CDBHGSC;'\n",
    "                    'Database=HousePriceMorocco;''Trusted_connection=yes')"
   ]
  },
  {
   "cell_type": "code",
   "execution_count": 3,
   "id": "0edfffed-7807-4905-ad29-6d925ad25775",
   "metadata": {},
   "outputs": [
    {
     "name": "stdout",
     "output_type": "stream",
     "text": [
      "True\n"
     ]
    }
   ],
   "source": [
    "if conn:\n",
    "    print('True')"
   ]
  },
  {
   "cell_type": "code",
   "execution_count": 4,
   "id": "64ba0b99-99e5-4699-ba6d-9202d6103082",
   "metadata": {},
   "outputs": [],
   "source": [
    "cursor = conn.cursor()"
   ]
  },
  {
   "cell_type": "code",
   "execution_count": 5,
   "id": "aa8a8720-b7e4-4055-97c7-5226c34c008a",
   "metadata": {},
   "outputs": [
    {
     "data": {
      "text/plain": [
       "<Response [200]>"
      ]
     },
     "execution_count": 5,
     "metadata": {},
     "output_type": "execute_result"
    }
   ],
   "source": [
    "url = 'https://www.masaken.ma/fr/' \n",
    "response = requests.get(url)\n",
    "response"
   ]
  },
  {
   "cell_type": "code",
   "execution_count": 7,
   "id": "93aecbe5-cc53-4834-98e1-995598c8cc0b",
   "metadata": {},
   "outputs": [
    {
     "data": {
      "text/plain": [
       "<pyodbc.Cursor at 0x22e3f9a8330>"
      ]
     },
     "execution_count": 7,
     "metadata": {},
     "output_type": "execute_result"
    }
   ],
   "source": [
    "query = \"\"\"\n",
    "INSERT INTO Web (id_site, nom_site, url_site)\n",
    "VALUES (?, ?, ?)\n",
    "\"\"\"\n",
    "cursor.execute(query, 10, \"masaken\", url)"
   ]
  },
  {
   "cell_type": "code",
   "execution_count": 8,
   "id": "1e369170-be26-4d79-aa96-0132b624eff5",
   "metadata": {},
   "outputs": [],
   "source": [
    "soup = BeautifulSoup(response.content, 'html.parser')\n",
    "num = 0\n",
    "nb = 2024\n",
    "\n",
    "div_element1 = soup.find_all('div', class_='compact-links')\n",
    "for div in div_element1:\n",
    "    h3_child = div.find('h3')\n",
    "    if h3_child and (h3_child.text == \"Vente appartement\" or h3_child.text == \"Vente maison\"):\n",
    "        a_tags = div.find_all('a')\n",
    "        for a in a_tags:\n",
    "            num += 10\n",
    "            relative_link = a.get('href')\n",
    "            if relative_link:\n",
    "                absolute_link = urljoin(url, relative_link)\n",
    "                parsed_url = urlparse(absolute_link)\n",
    "                path_segments = parsed_url.path.split('/')\n",
    "                city = path_segments[-1]\n",
    "                response = requests.get(absolute_link)\n",
    "                soup = BeautifulSoup(response.content, 'html.parser')\n",
    "\n",
    "                div_element = soup.find_all('div', class_='annBlocDesc')\n",
    "                for dv in div_element:\n",
    "                    num += 1\n",
    "                    annBloc = dv.find('div')\n",
    "                    prix = annBloc.find('div', class_='annPrice')\n",
    "                    p = prix.find('span', dir=\"ltr\")\n",
    "                    price_str = p.text.strip()\n",
    "                    price_str = re.sub(r'[^\\d.,]', '', price_str) \n",
    "                    price_str = price_str.replace(' ', '') \n",
    "                    price = float(price_str)\n",
    "                    nom = annBloc.find(\"h2\")\n",
    "                    match = re.search(r'(\\d+)\\s*pièces?.*?(\\d+)\\s*m²', nom.text)\n",
    "                    \n",
    "                    if match:\n",
    "                        pieces = int(match.group(1))\n",
    "                        metrage = int(match.group(2))\n",
    "\n",
    "                    quartier = annBloc.find(\"h3\")\n",
    "                    text = quartier.text\n",
    "                    start = text.find('«') + 1\n",
    "                    end = text.find('»')\n",
    "                    \n",
    "                    substring = text[start:end].strip()\n",
    "                    \n",
    "                    query = \"\"\"\n",
    "                    SELECT id_location\n",
    "                    FROM Localisation \n",
    "                    WHERE city = ? AND district = ? \n",
    "                    \"\"\"\n",
    "                    cursor.execute(query, city, substring)\n",
    "                    result = cursor.fetchone()\n",
    "                    \n",
    "                    if result:\n",
    "                        id_location = result[0]\n",
    "                    else:\n",
    "                        insert_location_query = \"\"\"\n",
    "                        INSERT INTO Localisation (id_location,city, district) \n",
    "                        VALUES (?,?, ?)\n",
    "                        \"\"\"\n",
    "                        cursor.execute(insert_location_query,num, city, substring)\n",
    "                        id_localisation = num\n",
    "                    nb=nb+1\n",
    "                    insert_maison_query = \"\"\"\n",
    "                    INSERT INTO House (id_house, price, number_of_rooms, area, id_site, id_location) \n",
    "                    VALUES (?, ?, ?, ?, ?, ?)\n",
    "                    \"\"\"\n",
    "                    cursor.execute(insert_maison_query, nb, price, pieces, metrage, 10, id_localisation)\n"
   ]
  },
  {
   "cell_type": "code",
   "execution_count": 9,
   "id": "a9e25236-02d8-487e-bb47-88faa10e3ca4",
   "metadata": {},
   "outputs": [],
   "source": [
    "conn.commit()"
   ]
  },
  {
   "cell_type": "code",
   "execution_count": 10,
   "id": "86fa7eb2-c728-4814-9b4c-881708bec654",
   "metadata": {},
   "outputs": [],
   "source": [
    "cursor.close()\n",
    "conn.close()"
   ]
  },
  {
   "cell_type": "code",
   "execution_count": null,
   "id": "bad158aa-867b-47ec-95a4-baced0914e1d",
   "metadata": {},
   "outputs": [],
   "source": []
  }
 ],
 "metadata": {
  "kernelspec": {
   "display_name": "Python 3 (ipykernel)",
   "language": "python",
   "name": "python3"
  },
  "language_info": {
   "codemirror_mode": {
    "name": "ipython",
    "version": 3
   },
   "file_extension": ".py",
   "mimetype": "text/x-python",
   "name": "python",
   "nbconvert_exporter": "python",
   "pygments_lexer": "ipython3",
   "version": "3.12.2"
  }
 },
 "nbformat": 4,
 "nbformat_minor": 5
}
