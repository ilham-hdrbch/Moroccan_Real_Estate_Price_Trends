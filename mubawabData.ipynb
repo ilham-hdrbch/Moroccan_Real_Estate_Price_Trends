{
 "cells": [
  {
   "cell_type": "code",
   "execution_count": 1,
   "id": "32803fc4-31f6-4314-87a6-2179c3c81e2d",
   "metadata": {},
   "outputs": [],
   "source": [
    "import pyodbc\n",
    "from bs4 import BeautifulSoup\n",
    "from urllib.parse import urljoin,urlparse\n",
    "import requests\n",
    "import re"
   ]
  },
  {
   "cell_type": "code",
   "execution_count": 2,
   "id": "193ee848-a02b-4dc3-b1bb-63abac7f58d2",
   "metadata": {},
   "outputs": [],
   "source": [
    "conn=pyodbc.connect('Driver={SQL Server};''Server=DESKTOP-CDBHGSC;'\n",
    "                    'Database=HousePriceMorocco;''Trusted_connection=yes')"
   ]
  },
  {
   "cell_type": "code",
   "execution_count": 3,
   "id": "be9d4af9-eea7-4304-bf41-926dbe886da6",
   "metadata": {},
   "outputs": [
    {
     "name": "stdout",
     "output_type": "stream",
     "text": [
      "True\n"
     ]
    }
   ],
   "source": [
    "if conn:\n",
    "    print('True')"
   ]
  },
  {
   "cell_type": "code",
   "execution_count": 4,
   "id": "08f3fb83-0f2d-48a2-ab32-6ee0dfdf0fdd",
   "metadata": {},
   "outputs": [],
   "source": [
    "cursor = conn.cursor()"
   ]
  },
  {
   "cell_type": "code",
   "execution_count": 5,
   "id": "89c02c9d-0b37-415b-8194-8d2ed0004dad",
   "metadata": {},
   "outputs": [
    {
     "data": {
      "text/plain": [
       "<Response [200]>"
      ]
     },
     "execution_count": 5,
     "metadata": {},
     "output_type": "execute_result"
    }
   ],
   "source": [
    "url = 'https://www.mubawab.ma/fr/cr/rabat-sal%C3%A9-zemmour-za%C3%ABr/immobilier-a-vendre-all' \n",
    "response = requests.get(url)\n",
    "response"
   ]
  },
  {
   "cell_type": "code",
   "execution_count": 6,
   "id": "99dc9953-4a14-4c6a-bb22-fb2b3c5e23a1",
   "metadata": {},
   "outputs": [
    {
     "data": {
      "text/plain": [
       "<pyodbc.Cursor at 0x2bfb3a68ab0>"
      ]
     },
     "execution_count": 6,
     "metadata": {},
     "output_type": "execute_result"
    }
   ],
   "source": [
    "query = \"\"\"\n",
    "INSERT INTO Web (id_site, nom_site, url_site)\n",
    "VALUES (?, ?, ?)\n",
    "\"\"\"\n",
    "cursor.execute(query,20, \"mubawab\", url)"
   ]
  },
  {
   "cell_type": "code",
   "execution_count": 7,
   "id": "99b97302-4757-480d-8c25-501996adabea",
   "metadata": {},
   "outputs": [],
   "source": [
    "soup = BeautifulSoup(response.content, 'html.parser')\n",
    "div_elem = soup.find('div',class_=\"sideFilterWrap asideMarg\")"
   ]
  },
  {
   "cell_type": "code",
   "execution_count": 8,
   "id": "82527eb3-08cf-4544-b62a-d8507582ea7d",
   "metadata": {},
   "outputs": [
    {
     "name": "stdout",
     "output_type": "stream",
     "text": [
      "https://www.mubawab.ma/fr/cr/b%C3%A9ni-mellal-kh%C3%A9nifra/immobilier-a-vendre-all\n",
      "https://www.mubawab.ma/fr/cr/casablanca-settat/immobilier-a-vendre-all\n",
      "https://www.mubawab.ma/fr/cr/dakhla-oued-eddahab/immobilier-a-vendre-all\n",
      "https://www.mubawab.ma/fr/cr/dar%C3%A2a-tafilalet/immobilier-a-vendre-all\n",
      "https://www.mubawab.ma/fr/cr/f%C3%A8s-mekn%C3%A8s/immobilier-a-vendre-all\n",
      "https://www.mubawab.ma/fr/cr/guelmim-oued-noun/immobilier-a-vendre-all\n",
      "https://www.mubawab.ma/fr/cr/l'oriental/immobilier-a-vendre-all\n",
      "https://www.mubawab.ma/fr/cr/la%C3%A2youne-sakia-el-hamra/immobilier-a-vendre-all\n",
      "https://www.mubawab.ma/fr/cr/marrakech-safi/immobilier-a-vendre-all\n",
      "#\n",
      "https://www.mubawab.ma/fr/cr/souss-massaa/immobilier-a-vendre-all\n",
      "https://www.mubawab.ma/fr/cr/tanger-t%C3%A9touan-al-hoceima/immobilier-a-vendre-all\n"
     ]
    }
   ],
   "source": [
    "ul_elems = div_elem.find('ul', class_=\"selectUl\")\n",
    "li_tags = ul_elems.find_all('li')\n",
    "for li in li_tags:\n",
    "    a_tag = li.find('a')\n",
    "    link=a_tag.get('href')\n",
    "    print(link)"
   ]
  },
  {
   "cell_type": "code",
   "execution_count": 9,
   "id": "821a645e-0e1a-47e8-971c-9198b02af669",
   "metadata": {},
   "outputs": [],
   "source": [
    "urls = [\n",
    "    \"https://www.mubawab.ma/fr/cr/b%C3%A9ni-mellal-kh%C3%A9nifra/immobilier-a-vendre-all\",\n",
    "    \"https://www.mubawab.ma/fr/cr/casablanca-settat/immobilier-a-vendre-all\",\n",
    "    \"https://www.mubawab.ma/fr/cr/dakhla-oued-eddahab/immobilier-a-vendre-all\",\n",
    "    \"https://www.mubawab.ma/fr/cr/dar%C3%A2a-tafilalet/immobilier-a-vendre-all\",\n",
    "    \"https://www.mubawab.ma/fr/cr/f%C3%A8s-mekn%C3%A8s/immobilier-a-vendre-all\",\n",
    "    \"https://www.mubawab.ma/fr/cr/guelmim-oued-noun/immobilier-a-vendre-all\",\n",
    "    \"https://www.mubawab.ma/fr/cr/l'oriental/immobilier-a-vendre-all\",\n",
    "    \"https://www.mubawab.ma/fr/cr/la%C3%A2youne-sakia-el-hamra/immobilier-a-vendre-all\",\n",
    "    \"https://www.mubawab.ma/fr/cr/marrakech-safi/immobilier-a-vendre-all\",\n",
    "    \"https://www.mubawab.ma/fr/cr/souss-massaa/immobilier-a-vendre-all\",\n",
    "    \"https://www.mubawab.ma/fr/cr/tanger-t%C3%A9touan-al-hoceima/immobilier-a-vendre-all\"\n",
    "]"
   ]
  },
  {
   "cell_type": "code",
   "execution_count": 10,
   "id": "58f26060-d289-45c7-b9ce-a770e5289e70",
   "metadata": {},
   "outputs": [],
   "source": [
    "num = 850\n",
    "nb = 3200\n",
    "\n",
    "urls = [\n",
    "    \"https://www.mubawab.ma/fr/cr/b%C3%A9ni-mellal-kh%C3%A9nifra/immobilier-a-vendre-all\",\n",
    "    \"https://www.mubawab.ma/fr/cr/casablanca-settat/immobilier-a-vendre-all\",\n",
    "    \"https://www.mubawab.ma/fr/cr/dakhla-oued-eddahab/immobilier-a-vendre-all\",\n",
    "    \"https://www.mubawab.ma/fr/cr/dar%C3%A2a-tafilalet/immobilier-a-vendre-all\",\n",
    "    \"https://www.mubawab.ma/fr/cr/f%C3%A8s-mekn%C3%A8s/immobilier-a-vendre-all\",\n",
    "    \"https://www.mubawab.ma/fr/cr/guelmim-oued-noun/immobilier-a-vendre-all\",\n",
    "    \"https://www.mubawab.ma/fr/cr/l'oriental/immobilier-a-vendre-all\",\n",
    "    \"https://www.mubawab.ma/fr/cr/la%C3%A2youne-sakia-el-hamra/immobilier-a-vendre-all\",\n",
    "    \"https://www.mubawab.ma/fr/cr/marrakech-safi/immobilier-a-vendre-all\",\n",
    "    \"https://www.mubawab.ma/fr/cr/souss-massaa/immobilier-a-vendre-all\",\n",
    "    \"https://www.mubawab.ma/fr/cr/tanger-t%C3%A9touan-al-hoceima/immobilier-a-vendre-all\"\n",
    "]\n",
    "\n",
    "def extract_number(text):\n",
    "    return ''.join(filter(str.isdigit, text))\n",
    "\n",
    "for u in urls:\n",
    "    response = requests.get(u)\n",
    "    soup = BeautifulSoup(response.content, 'html.parser')\n",
    "    division = soup.find_all('div', class_='col-7 contentBox')\n",
    "    for dv in division:\n",
    "        city = dv.find('a')\n",
    "        if city:\n",
    "            relative_link = city.get('href')\n",
    "            base_url = u\n",
    "            full_link = urljoin(base_url, relative_link)\n",
    "            \n",
    "            response = requests.get(full_link)\n",
    "            soup = BeautifulSoup(response.content, 'html.parser')\n",
    "            metrage = None\n",
    "            piece = None\n",
    "            price = None\n",
    "            city_name = None\n",
    "            quartier = None\n",
    "\n",
    "            for feature in soup.find_all('div', class_='adDetailFeature'):\n",
    "                span = feature.find('span')\n",
    "                if span:\n",
    "                    text = span.get_text(strip=True)\n",
    "                    if 'm²' in text:\n",
    "                        metrage = int(text.split()[0])\n",
    "                    elif 'Pièce' in text:\n",
    "                        piece = int(text.split()[0])\n",
    "            \n",
    "\n",
    "            price_tag = soup.find('h3', class_='fullPicturesPrice')\n",
    "            if price_tag:\n",
    "                text = price_tag.get_text(strip=True)\n",
    "                if \"Prix à consulter\" in text:\n",
    "                    price = 0\n",
    "                else:\n",
    "                    text = extract_number(text)\n",
    "                    if text:\n",
    "                        price = int(text)\n",
    "            \n",
    "\n",
    "            city_tag = soup.find('h3', class_='greyTit')\n",
    "            if city_tag:\n",
    "                city_text = city_tag.get_text(strip=True)\n",
    "                if ' à ' in city_text:\n",
    "                    quartier, city_name = map(str.strip, city_text.split(' à '))\n",
    "                else:\n",
    "                    parts = city_text.split('à')\n",
    "                    if len(parts) == 2:\n",
    "                        quartier = parts[0].strip()\n",
    "                        city_name = parts[1].strip()\n",
    "                    else:\n",
    "                        city_name = city_text.strip()\n",
    "\n",
    "            query = \"\"\"\n",
    "                    SELECT id_location\n",
    "                    FROM Localisation \n",
    "                    WHERE city = ? AND (district = ? OR district IS NULL)\n",
    "                    \"\"\"\n",
    "            cursor.execute(query, city_name, quartier)\n",
    "            result = cursor.fetchone()\n",
    "            \n",
    "            if result:\n",
    "                id_location = result[0]\n",
    "            else:\n",
    "                insert_location_query = \"\"\"\n",
    "                INSERT INTO Localisation (id_location,city, district) \n",
    "                VALUES (?,?, ?)\n",
    "                \"\"\"\n",
    "                cursor.execute(insert_location_query,num, city_name, quartier)\n",
    "                id_localisation = num\n",
    "                num = num+1\n",
    "            nb=nb+1\n",
    "            insert_maison_query = \"\"\"\n",
    "            INSERT INTO House (id_house, price, number_of_rooms, area, id_site, id_location) \n",
    "            VALUES (?, ?, ?, ?, ?, ?)\n",
    "            \"\"\"\n",
    "            cursor.execute(insert_maison_query, nb, price, piece, metrage, 20, id_localisation)\n",
    "\n",
    "            "
   ]
  },
  {
   "cell_type": "code",
   "execution_count": 11,
   "id": "ad8d96f8-949a-4578-a95f-06c46fe67114",
   "metadata": {},
   "outputs": [],
   "source": [
    "conn.commit()"
   ]
  },
  {
   "cell_type": "code",
   "execution_count": 12,
   "id": "e750a2e9-30aa-40aa-ab32-ed21a9ec3cb7",
   "metadata": {},
   "outputs": [],
   "source": [
    "cursor.close()\n",
    "conn.close()"
   ]
  },
  {
   "cell_type": "code",
   "execution_count": null,
   "id": "16f99769-3045-4feb-ba74-019b11208ef6",
   "metadata": {},
   "outputs": [],
   "source": []
  }
 ],
 "metadata": {
  "kernelspec": {
   "display_name": "Python 3 (ipykernel)",
   "language": "python",
   "name": "python3"
  },
  "language_info": {
   "codemirror_mode": {
    "name": "ipython",
    "version": 3
   },
   "file_extension": ".py",
   "mimetype": "text/x-python",
   "name": "python",
   "nbconvert_exporter": "python",
   "pygments_lexer": "ipython3",
   "version": "3.12.2"
  }
 },
 "nbformat": 4,
 "nbformat_minor": 5
}
